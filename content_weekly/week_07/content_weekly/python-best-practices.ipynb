{
 "cells": [
  {
   "cell_type": "markdown",
   "metadata": {},
   "source": [
    "# Python Coding Best Practices\n",
    "\n",
    "This notebook covers essential best practices for writing clean, readable, and maintainable Python code. Each section shows common pitfalls followed by improved solutions."
   ]
  },
  {
   "cell_type": "markdown",
   "metadata": {},
   "source": [
    "## 1. Naming Conventions\n",
    "\n",
    "Good variable names make your code self-documenting and easier to understand."
   ]
  },
  {
   "cell_type": "code",
   "execution_count": null,
   "metadata": {},
   "outputs": [],
   "source": [
    "#   BAD: Unclear, abbreviated, or meaningless names\n",
    "x = 25\n",
    "y = 'John'\n",
    "z = x * 40\n",
    "temp = [1, 2, 3]\n",
    "data = 'customer@email.com'\n",
    "\n",
    "print(f\"{y} earns ${z}\")"
   ]
  },
  {
   "cell_type": "code",
   "execution_count": null,
   "metadata": {},
   "outputs": [],
   "source": [
    "#   GOOD: Descriptive, clear names using snake_case\n",
    "hourly_wage = 25\n",
    "employee_name = 'John'\n",
    "weekly_salary = hourly_wage * 40\n",
    "fibonacci_numbers = [1, 2, 3]\n",
    "customer_email = 'customer@email.com'\n",
    "\n",
    "print(f\"{employee_name} earns ${weekly_salary}\")"
   ]
  },
  {
   "cell_type": "markdown",
   "metadata": {},
   "source": [
    "**Key Points:**\n",
    "- Use descriptive names that explain what the variable contains\n",
    "- Use `snake_case` for variables and functions (lowercase with underscores)\n",
    "- Use `UPPER_CASE` for constants\n",
    "- Avoid single-letter names except for simple loop counters"
   ]
  },
  {
   "cell_type": "markdown",
   "metadata": {},
   "source": [
    "## 2. Comments and Documentation\n",
    "\n",
    "Comments should explain *why*, not *what*. Good code should be self-explanatory."
   ]
  },
  {
   "cell_type": "code",
   "execution_count": null,
   "metadata": {},
   "outputs": [],
   "source": [
    "#   BAD: Stating the obvious or no comments where needed\n",
    "# Add 1 to x\n",
    "x = x + 1\n",
    "\n",
    "# Multiply price by 1.2\n",
    "new_price = price * 1.2"
   ]
  },
  {
   "cell_type": "code",
   "execution_count": null,
   "metadata": {},
   "outputs": [],
   "source": [
    "#   GOOD: Explaining the reasoning or business logic\n",
    "customer_count = customer_count + 1\n",
    "\n",
    "# Apply 20% markup to cover shipping and handling costs\n",
    "final_price = base_price * 1.2"
   ]
  },
  {
   "cell_type": "code",
   "execution_count": null,
   "metadata": {},
   "outputs": [],
   "source": [
    "#   GOOD: Using docstrings for functions\n",
    "def calculate_discount(price, discount_percentage):\n",
    "    \"\"\"\n",
    "    Calculate the final price after applying a discount.\n",
    "    \n",
    "    Args:\n",
    "        price: The original price\n",
    "        discount_percentage: Discount as a percentage (e.g., 20 for 20%)\n",
    "    \n",
    "    Returns:\n",
    "        The discounted price\n",
    "    \"\"\"\n",
    "    discount_amount = price * (discount_percentage / 100)\n",
    "    return price - discount_amount"
   ]
  },
  {
   "cell_type": "markdown",
   "metadata": {},
   "source": [
    "## 3. Avoiding Magic Numbers\n",
    "\n",
    "Magic numbers are unexplained numeric values scattered throughout code."
   ]
  },
  {
   "cell_type": "code",
   "execution_count": null,
   "metadata": {},
   "outputs": [],
   "source": [
    "#   BAD: What do these numbers mean?\n",
    "if age >= 18 and age < 65:\n",
    "    price = 100\n",
    "else:\n",
    "    price = 100 * 0.8\n",
    "\n",
    "if score >= 90:\n",
    "    grade = 'A'\n",
    "elif score >= 80:\n",
    "    grade = 'B'"
   ]
  },
  {
   "cell_type": "code",
   "execution_count": null,
   "metadata": {},
   "outputs": [],
   "source": [
    "#   GOOD: Use named constants\n",
    "ADULT_AGE = 18\n",
    "SENIOR_AGE = 65\n",
    "STANDARD_TICKET_PRICE = 100\n",
    "DISCOUNT_RATE = 0.8\n",
    "\n",
    "A_GRADE_THRESHOLD = 90\n",
    "B_GRADE_THRESHOLD = 80\n",
    "\n",
    "if age >= ADULT_AGE and age < SENIOR_AGE:\n",
    "    price = STANDARD_TICKET_PRICE\n",
    "else:\n",
    "    price = STANDARD_TICKET_PRICE * DISCOUNT_RATE\n",
    "\n",
    "if score >= A_GRADE_THRESHOLD:\n",
    "    grade = 'A'\n",
    "elif score >= B_GRADE_THRESHOLD:\n",
    "    grade = 'B'"
   ]
  },
  {
   "cell_type": "markdown",
   "metadata": {},
   "source": [
    "## 4. Don't Repeat Yourself (DRY Principle)\n",
    "\n",
    "If you're copying and pasting code, you should probably use a function."
   ]
  },
  {
   "cell_type": "code",
   "execution_count": null,
   "metadata": {},
   "outputs": [],
   "source": [
    "#   BAD: Repetitive code\n",
    "user1_first = 'john'\n",
    "user1_last = 'doe'\n",
    "user1_full = user1_first.capitalize() + ' ' + user1_last.capitalize()\n",
    "print(f\"Welcome, {user1_full}!\")\n",
    "\n",
    "user2_first = 'jane'\n",
    "user2_last = 'smith'\n",
    "user2_full = user2_first.capitalize() + ' ' + user2_last.capitalize()\n",
    "print(f\"Welcome, {user2_full}!\")\n",
    "\n",
    "user3_first = 'bob'\n",
    "user3_last = 'jones'\n",
    "user3_full = user3_first.capitalize() + ' ' + user3_last.capitalize()\n",
    "print(f\"Welcome, {user3_full}!\")"
   ]
  },
  {
   "cell_type": "code",
   "execution_count": null,
   "metadata": {},
   "outputs": [],
   "source": [
    "#   GOOD: Use a function\n",
    "def welcome_user(first_name, last_name):\n",
    "    \"\"\"Display a welcome message for a user with their full name.\"\"\"\n",
    "    full_name = first_name.capitalize() + ' ' + last_name.capitalize()\n",
    "    print(f\"Welcome, {full_name}!\")\n",
    "\n",
    "welcome_user('john', 'doe')\n",
    "welcome_user('jane', 'smith')\n",
    "welcome_user('bob', 'jones')"
   ]
  },
  {
   "cell_type": "markdown",
   "metadata": {},
   "source": [
    "## 5. Proper Use of Data Structures\n",
    "\n",
    "Choose the right data structure for the job."
   ]
  },
  {
   "cell_type": "code",
   "execution_count": null,
   "metadata": {},
   "outputs": [],
   "source": [
    "#   BAD: Using parallel lists instead of a dictionary\n",
    "names = ['Alice', 'Bob', 'Charlie']\n",
    "ages = [25, 30, 35]\n",
    "cities = ['New York', 'Boston', 'Chicago']\n",
    "\n",
    "# Have to keep track of indices - error-prone!\n",
    "print(f\"{names[0]} is {ages[0]} and lives in {cities[0]}\")"
   ]
  },
  {
   "cell_type": "code",
   "execution_count": null,
   "metadata": {},
   "outputs": [],
   "source": [
    "#   GOOD: Use a dictionary or list of dictionaries\n",
    "people = [\n",
    "    {'name': 'Alice', 'age': 25, 'city': 'New York'},\n",
    "    {'name': 'Bob', 'age': 30, 'city': 'Boston'},\n",
    "    {'name': 'Charlie', 'age': 35, 'city': 'Chicago'}\n",
    "]\n",
    "\n",
    "# Much clearer and safer!\n",
    "person = people[0]\n",
    "print(f\"{person['name']} is {person['age']} and lives in {person['city']}\")"
   ]
  },
  {
   "cell_type": "markdown",
   "metadata": {},
   "source": [
    "## 6. String Formatting\n",
    "\n",
    "Use modern string formatting for cleaner, more readable code."
   ]
  },
  {
   "cell_type": "code",
   "execution_count": null,
   "metadata": {},
   "outputs": [],
   "source": [
    "#   BAD: String concatenation is messy and error-prone\n",
    "name = 'Alice'\n",
    "age = 25\n",
    "message = 'Hello, ' + name + '! You are ' + str(age) + ' years old.'\n",
    "print(message)"
   ]
  },
  {
   "cell_type": "code",
   "execution_count": null,
   "metadata": {},
   "outputs": [],
   "source": [
    "#   GOOD: Use f-strings (Python 3.6+)\n",
    "name = 'Alice'\n",
    "age = 25\n",
    "message = f'Hello, {name}! You are {age} years old.'\n",
    "print(message)\n",
    "\n",
    "# F-strings can also format numbers\n",
    "price = 19.99567\n",
    "print(f'Price: ${price:.2f}')  # Shows 2 decimal places"
   ]
  },
  {
   "cell_type": "markdown",
   "metadata": {},
   "source": [
    "## 7. Boolean Comparisons\n",
    "\n",
    "Write clean, Pythonic boolean expressions."
   ]
  },
  {
   "cell_type": "code",
   "execution_count": null,
   "metadata": {},
   "outputs": [],
   "source": [
    "#   BAD: Redundant comparisons\n",
    "is_active = True\n",
    "if is_active == True:\n",
    "    print(\"User is active\")\n",
    "\n",
    "if is_active != False:\n",
    "    print(\"Still active\")\n",
    "\n",
    "items = []\n",
    "if len(items) == 0:\n",
    "    print(\"No items\")"
   ]
  },
  {
   "cell_type": "code",
   "execution_count": null,
   "metadata": {},
   "outputs": [],
   "source": [
    "#   GOOD: Direct boolean evaluation\n",
    "is_active = True\n",
    "if is_active:\n",
    "    print(\"User is active\")\n",
    "\n",
    "if is_active:\n",
    "    print(\"Still active\")\n",
    "\n",
    "items = []\n",
    "if not items:  # Empty lists are \"falsy\"\n",
    "    print(\"No items\")"
   ]
  },
  {
   "cell_type": "markdown",
   "metadata": {},
   "source": [
    "## 8. List Comprehensions\n",
    "\n",
    "List comprehensions are more Pythonic and often faster than loops."
   ]
  },
  {
   "cell_type": "code",
   "execution_count": null,
   "metadata": {},
   "outputs": [],
   "source": [
    "#   BAD: Verbose loop to create a list\n",
    "numbers = [1, 2, 3, 4, 5]\n",
    "squared = []\n",
    "for num in numbers:\n",
    "    squared.append(num ** 2)\n",
    "print(squared)"
   ]
  },
  {
   "cell_type": "code",
   "execution_count": null,
   "metadata": {},
   "outputs": [],
   "source": [
    "#   GOOD: Use list comprehension\n",
    "numbers = [1, 2, 3, 4, 5]\n",
    "squared = [num ** 2 for num in numbers]\n",
    "print(squared)"
   ]
  },
  {
   "cell_type": "code",
   "execution_count": null,
   "metadata": {},
   "outputs": [],
   "source": [
    "#   BAD: Loop with condition\n",
    "numbers = [1, 2, 3, 4, 5, 6, 7, 8, 9, 10]\n",
    "even_numbers = []\n",
    "for num in numbers:\n",
    "    if num % 2 == 0:\n",
    "        even_numbers.append(num)\n",
    "print(even_numbers)"
   ]
  },
  {
   "cell_type": "code",
   "execution_count": null,
   "metadata": {},
   "outputs": [],
   "source": [
    "#   GOOD: List comprehension with condition\n",
    "numbers = [1, 2, 3, 4, 5, 6, 7, 8, 9, 10]\n",
    "even_numbers = [num for num in numbers if num % 2 == 0]\n",
    "print(even_numbers)"
   ]
  },
  {
   "cell_type": "markdown",
   "metadata": {},
   "source": [
    "## 9. File Handling\n",
    "\n",
    "Always use context managers (`with` statements) when working with files."
   ]
  },
  {
   "cell_type": "code",
   "execution_count": null,
   "metadata": {},
   "outputs": [],
   "source": [
    "#   BAD: File might not get closed if an error occurs\n",
    "file = open('data.txt', 'r')\n",
    "content = file.read()\n",
    "print(content)\n",
    "file.close()  # What if an error happens before this?"
   ]
  },
  {
   "cell_type": "code",
   "execution_count": null,
   "metadata": {},
   "outputs": [],
   "source": [
    "#   GOOD: File is automatically closed, even if an error occurs\n",
    "with open('data.txt', 'r') as file:\n",
    "    content = file.read()\n",
    "    print(content)\n",
    "# File is automatically closed here"
   ]
  },
  {
   "cell_type": "markdown",
   "metadata": {},
   "source": [
    "## 10. Error Handling\n",
    "\n",
    "Handle errors gracefully instead of letting your program crash."
   ]
  },
  {
   "cell_type": "code",
   "execution_count": null,
   "metadata": {},
   "outputs": [],
   "source": [
    "#   BAD: No error handling - will crash on bad input\n",
    "user_input = input(\"Enter a number: \")\n",
    "number = int(user_input)\n",
    "result = 100 / number\n",
    "print(f\"Result: {result}\")"
   ]
  },
  {
   "cell_type": "code",
   "execution_count": null,
   "metadata": {},
   "outputs": [],
   "source": [
    "#   GOOD: Handle potential errors\n",
    "user_input = input(\"Enter a number: \")\n",
    "\n",
    "try:\n",
    "    number = int(user_input)\n",
    "    result = 100 / number\n",
    "    print(f\"Result: {result}\")\n",
    "except ValueError:\n",
    "    print(\"Please enter a valid number.\")\n",
    "except ZeroDivisionError:\n",
    "    print(\"Cannot divide by zero.\")"
   ]
  },
  {
   "cell_type": "markdown",
   "metadata": {},
   "source": [
    "## 11. Function Design\n",
    "\n",
    "Functions should do one thing well and have clear inputs/outputs."
   ]
  },
  {
   "cell_type": "code",
   "execution_count": null,
   "metadata": {},
   "outputs": [],
   "source": [
    "#   BAD: Function does too many things\n",
    "def process_user(name, age):\n",
    "    # Validates\n",
    "    if age < 0:\n",
    "        return None\n",
    "    # Formats\n",
    "    formatted_name = name.upper()\n",
    "    # Calculates\n",
    "    birth_year = 2025 - age\n",
    "    # Prints (side effect!)\n",
    "    print(f\"{formatted_name} was born in {birth_year}\")\n",
    "    # Returns multiple unrelated things\n",
    "    return formatted_name, birth_year"
   ]
  },
  {
   "cell_type": "code",
   "execution_count": null,
   "metadata": {},
   "outputs": [],
   "source": [
    "#   GOOD: Separate functions with single responsibilities\n",
    "def validate_age(age):\n",
    "    \"\"\"Check if age is valid.\"\"\"\n",
    "    return age >= 0\n",
    "\n",
    "def format_name(name):\n",
    "    \"\"\"Format name to uppercase.\"\"\"\n",
    "    return name.upper()\n",
    "\n",
    "def calculate_birth_year(age, current_year=2025):\n",
    "    \"\"\"Calculate birth year from age.\"\"\"\n",
    "    return current_year - age\n",
    "\n",
    "def display_user_info(name, birth_year):\n",
    "    \"\"\"Display formatted user information.\"\"\"\n",
    "    print(f\"{name} was born in {birth_year}\")\n",
    "\n",
    "# Usage is now clear and testable\n",
    "name = \"alice\"\n",
    "age = 25\n",
    "\n",
    "if validate_age(age):\n",
    "    formatted_name = format_name(name)\n",
    "    birth_year = calculate_birth_year(age)\n",
    "    display_user_info(formatted_name, birth_year)"
   ]
  },
  {
   "cell_type": "markdown",
   "metadata": {},
   "source": [
    "## 12. Checking for None\n",
    "\n",
    "Be explicit when checking for None values."
   ]
  },
  {
   "cell_type": "code",
   "execution_count": null,
   "metadata": {},
   "outputs": [],
   "source": [
    "#   BAD: Can give unexpected results\n",
    "value = 0\n",
    "if not value:  # This is True for 0, [], '', None, etc.\n",
    "    print(\"Value is missing\")  # This prints, but 0 is a valid value!"
   ]
  },
  {
   "cell_type": "code",
   "execution_count": null,
   "metadata": {},
   "outputs": [],
   "source": [
    "#   GOOD: Explicitly check for None\n",
    "value = 0\n",
    "if value is None:\n",
    "    print(\"Value is missing\")  # This doesn't print\n",
    "else:\n",
    "    print(f\"Value is {value}\")  # This prints correctly"
   ]
  },
  {
   "cell_type": "markdown",
   "metadata": {},
   "source": [
    "## 13. Using Default Arguments\n",
    "\n",
    "Provide sensible defaults for function parameters when appropriate."
   ]
  },
  {
   "cell_type": "code",
   "execution_count": null,
   "metadata": {},
   "outputs": [],
   "source": [
    "#   BAD: Have to specify all arguments every time\n",
    "def greet(name, greeting, punctuation):\n",
    "    return f\"{greeting}, {name}{punctuation}\"\n",
    "\n",
    "print(greet('Alice', 'Hello', '!'))\n",
    "print(greet('Bob', 'Hello', '!'))\n",
    "print(greet('Charlie', 'Hello', '!'))"
   ]
  },
  {
   "cell_type": "code",
   "execution_count": null,
   "metadata": {},
   "outputs": [],
   "source": [
    "#   GOOD: Provide sensible defaults\n",
    "def greet(name, greeting='Hello', punctuation='!'):\n",
    "    return f\"{greeting}, {name}{punctuation}\"\n",
    "\n",
    "print(greet('Alice'))  # Uses defaults\n",
    "print(greet('Bob'))  # Uses defaults\n",
    "print(greet('Charlie', greeting='Hi'))  # Override one default"
   ]
  },
  {
   "cell_type": "markdown",
   "metadata": {},
   "source": [
    "## 14. Avoid Mutable Default Arguments\n",
    "\n",
    "Never use mutable objects (lists, dictionaries) as default arguments."
   ]
  },
  {
   "cell_type": "code",
   "execution_count": null,
   "metadata": {},
   "outputs": [],
   "source": [
    "#   BAD: Mutable default argument causes unexpected behavior\n",
    "def add_item(item, shopping_list=[]):\n",
    "    shopping_list.append(item)\n",
    "    return shopping_list\n",
    "\n",
    "list1 = add_item('apples')\n",
    "print(list1)  # ['apples']\n",
    "\n",
    "list2 = add_item('bananas')  # Expects new list, but...\n",
    "print(list2)  # ['apples', 'bananas'] - Oops! Same list!"
   ]
  },
  {
   "cell_type": "code",
   "execution_count": null,
   "metadata": {},
   "outputs": [],
   "source": [
    "#   GOOD: Use None and create new object inside function\n",
    "def add_item(item, shopping_list=None):\n",
    "    if shopping_list is None:\n",
    "        shopping_list = []\n",
    "    shopping_list.append(item)\n",
    "    return shopping_list\n",
    "\n",
    "list1 = add_item('apples')\n",
    "print(list1)  # ['apples']\n",
    "\n",
    "list2 = add_item('bananas')\n",
    "print(list2)  # ['bananas'] - Correct! New list"
   ]
  },
  {
   "cell_type": "markdown",
   "metadata": {},
   "source": [
    "## 15. Code Organization and Spacing\n",
    "\n",
    "Use whitespace and organization to make code more readable."
   ]
  },
  {
   "cell_type": "code",
   "execution_count": null,
   "metadata": {},
   "outputs": [],
   "source": [
    "#   BAD: Cramped, hard to read\n",
    "def calculate_total(prices,tax_rate):\n",
    "    total=0\n",
    "    for price in prices:\n",
    "        total+=price\n",
    "    total=total*(1+tax_rate)\n",
    "    return total\n",
    "result=calculate_total([10,20,30],0.08)\n",
    "print(result)"
   ]
  },
  {
   "cell_type": "code",
   "execution_count": null,
   "metadata": {},
   "outputs": [],
   "source": [
    "#   GOOD: Proper spacing and organization\n",
    "def calculate_total(prices, tax_rate):\n",
    "    \"\"\"Calculate total price including tax.\"\"\"\n",
    "    subtotal = 0\n",
    "    \n",
    "    for price in prices:\n",
    "        subtotal += price\n",
    "    \n",
    "    total = subtotal * (1 + tax_rate)\n",
    "    return total\n",
    "\n",
    "# Constants at the top\n",
    "PRICES = [10, 20, 30]\n",
    "TAX_RATE = 0.08\n",
    "\n",
    "result = calculate_total(PRICES, TAX_RATE)\n",
    "print(result)"
   ]
  },
  {
   "cell_type": "markdown",
   "metadata": {},
   "source": [
    "## Summary of Key Principles\n",
    "\n",
    "1. **Use descriptive names** - Code should be self-documenting\n",
    "2. **Keep it DRY** - Don't repeat yourself; use functions\n",
    "3. **Choose the right data structure** - Sets for membership, dicts for key-value pairs\n",
    "4. **Use modern Python features** - F-strings, list comprehensions, context managers\n",
    "5. **Handle errors gracefully** - Use try/except blocks\n",
    "6. **One function, one job** - Keep functions focused and simple\n",
    "7. **Be explicit** - Especially with None and boolean checks\n",
    "8. **Use whitespace** - Make your code breathable and readable\n",
    "9. **Avoid magic numbers** - Use named constants\n",
    "10. **Comment the why, not the what** - Good code explains itself\n",
    "\n",
    "Remember: Code is read much more often than it is written. Write for the person who will maintain your code (often your future self!)."
   ]
  }
 ],
 "metadata": {
  "kernelspec": {
   "display_name": "Python 3",
   "language": "python",
   "name": "python3"
  },
  "language_info": {
   "name": "python",
   "version": "3.8.0"
  }
 },
 "nbformat": 4,
 "nbformat_minor": 4
}
