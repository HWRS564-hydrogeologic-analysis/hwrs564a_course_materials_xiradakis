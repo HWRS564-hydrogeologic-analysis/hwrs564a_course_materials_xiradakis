{
 "cells": [
  {
   "cell_type": "markdown",
   "metadata": {},
   "source": [
    "# Introduction to Hydrogeochemical Data Visualization with WQChartPy\n",
    "\n",
    "## Learning Objectives\n",
    "By the end of this notebook, you will be able to:\n",
    "1. Understand the basics of hydrogeochemical data visualization\n",
    "2. Install and import WQChartPy\n",
    "3. Load and prepare water chemistry data for plotting\n",
    "4. Create basic hydrogeochemical diagrams\n",
    "5. Interpret common hydrogeochemical plots\n",
    "\n",
    "## What is WQChartPy?\n",
    "\n",
    "WQChartPy is a Python package for creating geochemical diagrams used in water quality analysis and hydrogeochemistry. It can generate 12 different types of diagrams including:\n",
    "\n",
    "- **Piper diagrams** (Triangle, Rectangle, Color-coded, Contour-filled)\n",
    "- **Stiff diagrams**\n",
    "- **Durov diagrams**\n",
    "- **Schoeller diagrams**\n",
    "- **Gibbs diagrams**\n",
    "- **Chadha diagrams**\n",
    "- **Gaillardet diagrams**\n",
    "- **HFE-D diagrams**\n",
    "- **Chernoff faces**"
   ]
  },
  {
   "cell_type": "markdown",
   "metadata": {},
   "source": [
    "## Installation and Setup"
   ]
  },
  {
   "cell_type": "code",
   "execution_count": null,
   "metadata": {},
   "outputs": [],
   "source": [
    "# Import required libraries\n",
    "import pandas as pd\n",
    "import numpy as np\n",
    "import matplotlib.pyplot as plt\n",
    "import warnings\n",
    "warnings.filterwarnings('ignore')"
   ]
  },
  {
   "cell_type": "markdown",
   "metadata": {},
   "source": [
    "## Understanding Water Chemistry Data Format\n",
    "\n",
    "WQChartPy requires data in a specific format. Let's examine the required columns:"
   ]
  },
  {
   "cell_type": "code",
   "execution_count": null,
   "metadata": {},
   "outputs": [],
   "source": [
    "from wqchartpy import triangle_piper\n",
    "\n",
    "# Load the template dataset\n",
    "df = pd.read_csv('./datasets/template_dataset.csv')\n",
    "\n",
    "# Display the data\n",
    "print(\"\\nData shape:\", df.shape)\n",
    "df"
   ]
  },
  {
   "cell_type": "markdown",
   "metadata": {},
   "source": [
    "### Required Columns Explained:\n",
    "\n",
    "1. **Sample**: Sample name or ID\n",
    "2. **Label**: Group identifier (used for categorizing samples)\n",
    "3. **Color**: Color for plotting (matplotlib color names or hex codes)\n",
    "4. **Marker**: Marker style for plotting (matplotlib marker codes)\n",
    "5. **Size**: Marker size for plotting\n",
    "6. **Alpha**: Transparency (0 = transparent, 1 = opaque)\n",
    "7. **pH**: pH value\n",
    "8. **Major Ions**: Ca, Mg, Na, K, HCO3, CO3, Cl, SO4 (all in mg/L)\n",
    "9. **TDS**: Total Dissolved Solids (mg/L)"
   ]
  },
  {
   "cell_type": "code",
   "execution_count": null,
   "metadata": {},
   "outputs": [],
   "source": [
    "# Basic statistics for the template data\n",
    "print(\"Basic Statistics for Template Dataset:\")\n",
    "print(\"======================================\")\n",
    "\n",
    "# Select only the chemical parameter columns\n",
    "chem_cols = ['pH', 'Ca', 'Mg', 'Na', 'K', 'HCO3', 'CO3', 'Cl', 'SO4', 'TDS']\n",
    "df[chem_cols].describe().round(2)"
   ]
  },
  {
   "cell_type": "code",
   "execution_count": null,
   "metadata": {},
   "outputs": [],
   "source": [
    "print(\"\\nSample Groups:\")\n",
    "df['Label'].value_counts()"
   ]
  },
  {
   "cell_type": "code",
   "execution_count": null,
   "metadata": {},
   "outputs": [],
   "source": [
    "print(\"\\nTDS Range by Group:\")\n",
    "for group in df['Label'].unique():\n",
    "    group_data = df[df['Label'] == group]\n",
    "    print(f\"{group}: {group_data['TDS'].min():.1f} - {group_data['TDS'].max():.1f} mg/L\")"
   ]
  },
  {
   "cell_type": "markdown",
   "metadata": {},
   "source": [
    "## Your First Hydrogeochemical Plot: Piper Diagram\n",
    "\n",
    "The Piper diagram is one of the most widely used plots in hydrogeochemistry. It shows the relative concentrations of major cations and anions."
   ]
  },
  {
   "cell_type": "code",
   "execution_count": null,
   "metadata": {},
   "outputs": [],
   "source": [
    "# Import the triangle Piper module\n",
    "from wqchartpy import triangle_piper\n",
    "\n",
    "triangle_piper.plot(\n",
    "    df, unit='mg/L', \n",
    "    figname='./plots/example_triangle_piper', figformat='png'\n",
    ")"
   ]
  },
  {
   "cell_type": "markdown",
   "metadata": {},
   "source": [
    "## Understanding the Piper Diagram\n",
    "\n",
    "The Piper diagram consists of:\n",
    "- **Left triangle**: Cations (Ca²⁺, Mg²⁺, Na⁺+K⁺)\n",
    "- **Right triangle**: Anions (Cl⁻, SO₄²⁻, HCO₃⁻+CO₃²⁻)\n",
    "- **Central diamond**: Combined cation and anion composition\n",
    "\n",
    "### Interpretation:\n",
    "- Points closer to corners indicate dominance of that ion\n",
    "- Points in the center indicate mixed water types\n",
    "- Clustering indicates similar water chemistry"
   ]
  },
  {
   "cell_type": "markdown",
   "metadata": {},
   "source": [
    "## Creating Multiple Plot Types\n",
    "\n",
    "Let's create several different plot types to compare their strengths:"
   ]
  },
  {
   "cell_type": "code",
   "execution_count": null,
   "metadata": {},
   "outputs": [],
   "source": [
    "# Stiff diagram - creates unique 'fingerprints' for each water sample\n",
    "from wqchartpy import stiff\n",
    "\n",
    "stiff.plot(\n",
    "    df,  unit='mg/L', \n",
    "    figname='./plots/stiff_diagram_example', figformat='png'\n",
    ")"
   ]
  },
  {
   "cell_type": "code",
   "execution_count": null,
   "metadata": {},
   "outputs": [],
   "source": [
    "# Gibbs diagram - helps identify water-rock interaction processes\n",
    "from wqchartpy import gibbs\n",
    "\n",
    "gibbs.plot(\n",
    "    df, unit='mg/L', \n",
    "    figname='./plots/gibbs_example', figformat='png'\n",
    ")"
   ]
  },
  {
   "cell_type": "code",
   "execution_count": null,
   "metadata": {},
   "outputs": [],
   "source": [
    "# Schoeller diagram - shows ion concentrations on a log scale\n",
    "# Note: https://github.com/jyangfsu/WQChartPy/blob/main/wqchartpy/schoeller.py#L56-L76\n",
    "from wqchartpy import schoeller\n",
    "\n",
    "schoeller.plot(\n",
    "    df, unit='mg/L', \n",
    "    figname='./plots/schoeller', figformat='png'\n",
    ")"
   ]
  },
  {
   "cell_type": "markdown",
   "metadata": {},
   "source": [
    "## Data Summary and Statistics"
   ]
  },
  {
   "cell_type": "markdown",
   "metadata": {},
   "source": [
    "## Exercise: Create Your Own Plot\n",
    "\n",
    "Try modifying the data and creating a new plot:"
   ]
  },
  {
   "cell_type": "code",
   "execution_count": null,
   "metadata": {},
   "outputs": [],
   "source": [
    "# Exercise: Modify colors and create a new Piper diagram\n",
    "df_modified = df.copy()\n",
    "\n",
    "# Change colors for each cluster - how to do this??\n",
    "# TODO Need to do something here!\n",
    "\n",
    "# Create the plot with modified colors\n",
    "triangle_piper.plot(df_modified, \n",
    "                   unit='mg/L', \n",
    "                   figname='./plots/modified_piper', \n",
    "                   figformat='png')\n",
    "\n",
    "print(\"Modified Piper diagram created with new colors!\")"
   ]
  },
  {
   "cell_type": "markdown",
   "metadata": {},
   "source": [
    "## Key Takeaways\n",
    "\n",
    "1. **Data Format**: WQChartPy requires specific column names and format\n",
    "2. **Multiple Plot Types**: Different plots reveal different aspects of water chemistry\n",
    "3. **Customization**: Colors, markers, and sizes can be customized for better visualization\n",
    "4. **Interpretation**: Each plot type has specific interpretation guidelines"
   ]
  }
 ],
 "metadata": {
  "kernelspec": {
   "display_name": "hwrs564a",
   "language": "python",
   "name": "hwrs564a"
  },
  "language_info": {
   "codemirror_mode": {
    "name": "ipython",
    "version": 3
   },
   "file_extension": ".py",
   "mimetype": "text/x-python",
   "name": "python",
   "nbconvert_exporter": "python",
   "pygments_lexer": "ipython3",
   "version": "3.11.13"
  }
 },
 "nbformat": 4,
 "nbformat_minor": 4
}
