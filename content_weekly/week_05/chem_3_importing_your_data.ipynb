{
 "cells": [
  {
   "cell_type": "markdown",
   "metadata": {},
   "source": [
    "# Importing and cleaning your own data to plot with WQChartPy\n",
    "\n",
    "In this notebook we will demonstrate how to build your own WQChartPy compatible dataframes. We start by importing as usual. The data for your HW3 and 4 have been placed in `./datasets/Data for HW #3 & 4.xlsx`. We will build this notebook together!"
   ]
  },
  {
   "cell_type": "code",
   "execution_count": null,
   "metadata": {},
   "outputs": [],
   "source": [
    "# Import required libraries\n",
    "import pandas as pd\n",
    "import numpy as np\n",
    "import matplotlib.pyplot as plt\n",
    "\n",
    "from wqchartpy import triangle_piper, stiff"
   ]
  },
  {
   "cell_type": "code",
   "execution_count": null,
   "metadata": {},
   "outputs": [],
   "source": [
    "df = pd.read_excel('./datasets/Data for HW #3 & 4.xlsx')\n",
    "df.head()"
   ]
  },
  {
   "cell_type": "markdown",
   "metadata": {},
   "source": [
    "# Next steps: Converting the data for your second project\n",
    "\n",
    "We won't cover this in class today, but here's a starter for opening the data, and some leading questions to help you think about making the translation.\n",
    "\n",
    "## Leading questions:\n",
    "\n",
    "- Looks like the true data header might be on the 3rd row, you may have to \"skip rows\" when opening the data\n",
    "- It also looks like the row names have the chemical species, but all of our WQChartPy datasets have it on the columns? How would you swap the rows and & columns for something like a matrix? You can do the same for dataframes\n",
    "- You will also have to add the WQChartPy required columns like the \"Sample\", \"Label\", etc. - Use the above guide as a template for you to add them here.\n",
    "- Additionally, it looks like you will need to \"rename\" the labels for the chemical species - you might consider some sort of a key-value mapping here.\n"
   ]
  },
  {
   "cell_type": "code",
   "execution_count": null,
   "metadata": {},
   "outputs": [],
   "source": [
    "df_proj = pd.read_excel('./datasets/Project #2 Chemistry Input Data.xlsx')\n",
    "print('Dataset has a shape:', df_proj.shape)\n",
    "df_proj"
   ]
  },
  {
   "cell_type": "code",
   "execution_count": null,
   "metadata": {},
   "outputs": [],
   "source": []
  }
 ],
 "metadata": {
  "kernelspec": {
   "display_name": "hwrs564a",
   "language": "python",
   "name": "hwrs564a"
  },
  "language_info": {
   "codemirror_mode": {
    "name": "ipython",
    "version": 3
   },
   "file_extension": ".py",
   "mimetype": "text/x-python",
   "name": "python",
   "nbconvert_exporter": "python",
   "pygments_lexer": "ipython3",
   "version": "3.11.13"
  }
 },
 "nbformat": 4,
 "nbformat_minor": 4
}
