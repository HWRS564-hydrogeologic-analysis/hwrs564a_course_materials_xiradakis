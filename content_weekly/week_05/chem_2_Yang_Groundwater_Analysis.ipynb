{
 "cells": [
  {
   "cell_type": "markdown",
   "metadata": {},
   "source": [
    "# Groundwater Geochemistry Analysis: Yang et al. Dataset\n",
    "\n",
    "## Learning Objectives\n",
    "- Analyze real groundwater chemistry data from Yang et al. (2020)\n",
    "- Apply multiple hydrogeochemical diagrams to understand water evolution\n",
    "- Compare temporal and spatial variations in groundwater chemistry\n",
    "- Practice data preprocessing for WQChartPy\n",
    "\n",
    "## Dataset Description\n",
    "This dataset contains groundwater chemistry data from monitoring wells, including:\n",
    "- Multiple wells sampled over several years\n",
    "- Seasonal variations (dry vs. wet seasons)\n",
    "- Major ion concentrations\n",
    "- pH and trace elements"
   ]
  },
  {
   "cell_type": "code",
   "execution_count": null,
   "metadata": {},
   "outputs": [],
   "source": [
    "# Import required libraries\n",
    "import pandas as pd\n",
    "import numpy as np\n",
    "import matplotlib.pyplot as plt\n",
    "\n",
    "# Load the Yang groundwater dataset\n",
    "df_raw = pd.read_csv('./datasets/yang_groundwater_sample.csv')\n",
    "\n",
    "print(\"Dataset loaded successfully!\")\n",
    "print(f\"Dataset shape: {df_raw.shape}\")\n",
    "print(\"\\nFirst 5 rows:\")\n",
    "df_raw.head()"
   ]
  },
  {
   "cell_type": "markdown",
   "metadata": {},
   "source": [
    "## Data Exploration and Preprocessing"
   ]
  },
  {
   "cell_type": "code",
   "execution_count": null,
   "metadata": {},
   "outputs": [],
   "source": [
    "# Examine the structure of the dataset\n",
    "print(\"Dataset Information:\")\n",
    "print(\"===================\")\n",
    "print(f\"Number of samples: {len(df_raw)}\")\n",
    "print(f\"Number of wells: {df_raw['Well'].nunique()}\")\n",
    "print(f\"Wells: {df_raw['Well'].unique()}\")\n",
    "print(f\"Years covered: {df_raw['Sampling year'].min()} - {df_raw['Sampling year'].max()}\")\n",
    "print(f\"Seasons: {df_raw['Sampling season'].unique()}\")\n",
    "\n",
    "print(\"\\nBasic statistics for major ions (mg/L):\")\n",
    "ion_cols = ['Ca', 'Mg', 'Na', 'K', 'Cl', 'SO4', 'HCO3']\n",
    "df_raw[ion_cols].describe().round(2)"
   ]
  },
  {
   "cell_type": "markdown",
   "metadata": {},
   "source": [
    "## Hydrogeochemical Analysis\n",
    "\n",
    "### 1. Piper Diagrams - Understanding Water Types"
   ]
  },
  {
   "cell_type": "code",
   "execution_count": null,
   "metadata": {},
   "outputs": [],
   "source": [
    "# Create triangle Piper diagram for all samples\n",
    "from wqchartpy import triangle_piper\n",
    "\n",
    "# Create Piper diagram\n",
    "triangle_piper.plot(\n",
    "    df_raw, unit='mg/L', \n",
    "    figname='./plots/yang_piper_diagram', figformat='png'\n",
    ")"
   ]
  },
  {
   "cell_type": "markdown",
   "metadata": {},
   "source": [
    "### 2. Temporal Analysis - Seasonal Variations"
   ]
  },
  {
   "cell_type": "code",
   "execution_count": null,
   "metadata": {},
   "outputs": [],
   "source": [
    "# Create separate plots for seasonal comparison\n",
    "# Modify data to show seasonal differences\n",
    "df_seasonal = df_raw.copy()\n",
    "df_seasonal['Label'] = df_seasonal['Sampling season']\n",
    "\n",
    "# Assign different colors for seasons\n",
    "df_seasonal.loc[df_seasonal['Sampling season'] == 'dry', 'Color'] = 'red'\n",
    "df_seasonal.loc[df_seasonal['Sampling season'] == 'wet', 'Color'] = 'blue'\n",
    "\n",
    "# Assign different markers for seasons\n",
    "df_seasonal.loc[df_seasonal['Sampling season'] == 'dry', 'Marker'] = 'o'\n",
    "df_seasonal.loc[df_seasonal['Sampling season'] == 'wet', 'Marker'] = 's'\n",
    "\n",
    "# Create Piper diagram showing seasonal differences\n",
    "triangle_piper.plot(\n",
    "    df_seasonal, unit='mg/L', \n",
    "    figname='./plots/yang_piper_seasonal_comparison', figformat='png'\n",
    ")\n",
    "\n",
    "print(\"Seasonal comparison Piper diagram created!\")\n",
    "print(\"Red circles = Dry season, Blue squares = Wet season\")"
   ]
  },
  {
   "cell_type": "code",
   "execution_count": null,
   "metadata": {},
   "outputs": [],
   "source": []
  }
 ],
 "metadata": {
  "kernelspec": {
   "display_name": "hwrs564a",
   "language": "python",
   "name": "hwrs564a"
  },
  "language_info": {
   "codemirror_mode": {
    "name": "ipython",
    "version": 3
   },
   "file_extension": ".py",
   "mimetype": "text/x-python",
   "name": "python",
   "nbconvert_exporter": "python",
   "pygments_lexer": "ipython3",
   "version": "3.11.13"
  }
 },
 "nbformat": 4,
 "nbformat_minor": 4
}
