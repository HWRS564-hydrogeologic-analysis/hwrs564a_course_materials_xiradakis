{
 "cells": [
  {
   "cell_type": "markdown",
   "id": "5ab201e8",
   "metadata": {},
   "source": [
    "# Flopy Tutorial: Loading and modifying a Simple MODFLOW Model\n",
    "\n",
    "In the previous tutorial, we created a simple MODFLOW-2005 model using FloPy. In this tutorial, we will explore how to load in the model input files that we created in the previous tutorial, and then modify some of the model inputs to see how the model responds to our changes.\n",
    "\n",
    "First, let's complete our standard imports and set up the model name and path to the MODFLOW executable. We then simply use the `flopy.modflow.Modflow.load()` function to load in the model from the existing input files."
   ]
  },
  {
   "cell_type": "code",
   "execution_count": 1,
   "id": "553c8813",
   "metadata": {},
   "outputs": [
    {
     "name": "stdout",
     "output_type": "stream",
     "text": [
      "MODFLOW 1 layer(s) 10 row(s) 10 column(s) 1 stress period(s)\n"
     ]
    }
   ],
   "source": [
    "import flopy\n",
    "import numpy as np\n",
    "import matplotlib.pyplot as plt\n",
    "import matplotlib as mp\n",
    "import os\n",
    "\n",
    "modelname = \"simple_modflow_model\"\n",
    "original_ws = './simple_model'\n",
    "modflow_path = '../../../modflow/mf2005'\n",
    "m = flopy.modflow.Modflow.load(f'{original_ws}/{modelname}.nam', exe_name=modflow_path)\n",
    "print(m)"
   ]
  },
  {
   "cell_type": "markdown",
   "id": "f0cb8e57",
   "metadata": {},
   "source": [
    "# 1. Interacting with the loaded model\n",
    "\n",
    "With our model in hand we now wish to modify some pieces of it. Let's start by examining the model structure and some of the key packages that we will want to modify."
   ]
  },
  {
   "cell_type": "code",
   "execution_count": 2,
   "id": "f37ca0ed",
   "metadata": {},
   "outputs": [
    {
     "name": "stdout",
     "output_type": "stream",
     "text": [
      "Available packages:\n",
      "['DIS', 'BAS6', 'LPF', 'OC', 'PCG']\n",
      "\n",
      "============================================================\n",
      "\n",
      "Model dimensions:\n",
      "  Layers: 1\n",
      "  Rows: 10\n",
      "  Columns: 10\n",
      "  Stress periods: 1\n",
      "\n",
      "============================================================\n",
      "\n",
      "Key package information:\n",
      "  DIS - Discretization\n",
      "  BAS6 - Basic Package\n",
      "  LPF - Layer Property Flow\n",
      "  WEL - Well Package\n",
      "  RCH - Recharge Package\n"
     ]
    }
   ],
   "source": [
    "# List all packages in the model\n",
    "print(\"Available packages:\")\n",
    "print(m.get_package_list())\n",
    "print(\"\\n\" + \"=\"*60)\n",
    "\n",
    "# Get model dimensions\n",
    "print(f\"\\nModel dimensions:\")\n",
    "print(f\"  Layers: {m.nlay}\")\n",
    "print(f\"  Rows: {m.nrow}\")\n",
    "print(f\"  Columns: {m.ncol}\")\n",
    "print(f\"  Stress periods: {m.nper}\")\n",
    "print(\"\\n\" + \"=\"*60)\n",
    "\n",
    "# Access specific packages\n",
    "dis = m.dis  # Discretization package\n",
    "bas = m.bas6  # Basic package\n",
    "lpf = m.lpf  # Layer Property Flow package\n",
    "wel = m.wel  # Well package\n",
    "rch = m.rch  # Recharge package\n",
    "\n",
    "print(f\"\\nKey package information:\")\n",
    "print(f\"  DIS - Discretization\")\n",
    "print(f\"  BAS6 - Basic Package\")\n",
    "print(f\"  LPF - Layer Property Flow\")\n",
    "print(f\"  WEL - Well Package\")\n",
    "print(f\"  RCH - Recharge Package\")"
   ]
  },
  {
   "cell_type": "markdown",
   "id": "o4dc2lmmhuj",
   "metadata": {},
   "source": [
    "## 2. Inspecting Hydraulic Properties\n",
    "\n",
    "Now let's look at the hydraulic conductivity. We can access the LPF package and print out the hydraulic conductivity array."
   ]
  },
  {
   "cell_type": "code",
   "execution_count": 3,
   "id": "bmfcp1wzp3n",
   "metadata": {},
   "outputs": [
    {
     "name": "stdout",
     "output_type": "stream",
     "text": [
      "Hydraulic conductivity (K) statistics:\n",
      "  Value: 5.00 m/d\n",
      "  Shape: (1, 10, 10)\n",
      "\n",
      "Specific yield (Sy) statistics:\n",
      "  Mean: 0.0000\n",
      "  Shape: (1, 10, 10)\n"
     ]
    }
   ],
   "source": [
    "# Access hydraulic conductivity\n",
    "hk = lpf.hk.array  # Horizontal hydraulic conductivity\n",
    "vka = lpf.vka.array  # Vertical hydraulic conductivity (or anisotropy ratio)\n",
    "ss = lpf.ss.array  # Specific storage\n",
    "sy = lpf.sy.array  # Specific yield\n",
    "\n",
    "print(f\"Hydraulic conductivity (K) statistics:\")\n",
    "print(f\"  Value: {np.mean(hk):.2f} m/d\")\n",
    "print(f\"  Shape: {hk.shape}\")\n",
    "print(f\"\\nSpecific yield (Sy) statistics:\")\n",
    "print(f\"  Mean: {np.mean(sy):.4f}\")\n",
    "print(f\"  Shape: {sy.shape}\")\n"
   ]
  },
  {
   "cell_type": "markdown",
   "id": "5y25fxpao18",
   "metadata": {},
   "source": [
    "## 3. Creating a Modified Model\n",
    "\n",
    "Now let's create a modified version of the model with different hydraulic properties. We'll create this in a **separate directory** to avoid overwriting the original model outputs.\n",
    "\n",
    "The key principle: **Always write modified models to separate directories to preserve original results!**"
   ]
  },
  {
   "cell_type": "code",
   "execution_count": 4,
   "id": "5kvxs9dfi1",
   "metadata": {},
   "outputs": [
    {
     "name": "stdout",
     "output_type": "stream",
     "text": [
      "\n",
      "Modified hydraulic conductivity:\n",
      "  Original K: 5.00 m/d (uniform)\n",
      "  Modified K: 9.79 ± 1.81 m/d (heterogeneous)\n",
      "  Range: 4.76 - 13.70 m/d\n"
     ]
    }
   ],
   "source": [
    "m_original = flopy.modflow.Modflow.load(f'{original_ws}/{modelname}.nam', \n",
    "                                        exe_name=modflow_path, check=False)\n",
    "    \n",
    "# Set up the modified model in a SEPARATE directory\n",
    "new_modelname = 'modified_model'\n",
    "model_ws_modified = './modified_model'\n",
    "os.makedirs(model_ws_modified, exist_ok=True)\n",
    "m_mod = flopy.modflow.Modflow(modelname=new_modelname, \n",
    "                              exe_name=modflow_path,\n",
    "                              model_ws=model_ws_modified)\n",
    "\n",
    "# Copy discretization from original\n",
    "dis = flopy.modflow.ModflowDis(m_mod, \n",
    "                                nlay=m.nlay, \n",
    "                                nrow=m.nrow, \n",
    "                                ncol=m.ncol,\n",
    "                                delr=m.dis.delr.array, \n",
    "                                delc=m.dis.delc.array,\n",
    "                                top=m.dis.top.array, \n",
    "                                botm=m.dis.botm.array,\n",
    "                                nper=m.nper,\n",
    "                                perlen=m.dis.perlen.array,\n",
    "                                nstp=m.dis.nstp.array,\n",
    "                                steady=m.dis.steady.array)\n",
    "\n",
    "# Copy basic package\n",
    "bas = flopy.modflow.ModflowBas(m_mod, \n",
    "                                ibound=m.bas6.ibound.array, \n",
    "                                strt=m.bas6.strt.array)\n",
    "\n",
    "# Modify hydraulic conductivity to introduce heterogeneity\n",
    "np.random.seed(42)  # For reproducibility\n",
    "new_hk = np.random.normal(loc=10.0, scale=2.0, size=hk.shape)  # Mean 10 m/d, std 2 m/d\n",
    "new_hk[new_hk < 0.1] = 0.1  # Ensure minimum K value\n",
    "\n",
    "# Create LPF package with modified K\n",
    "lpf_mod = flopy.modflow.ModflowLpf(m_mod, hk=new_hk, vka=1.0, sy=0.2, ss=1e-5, laytyp=1)\n",
    "\n",
    "# Add solver\n",
    "pcg = flopy.modflow.ModflowPcg(m_mod)\n",
    "\n",
    "# Add Output Control - CRITICAL for saving outputs!\n",
    "spd = {(0, 0): ['save head', 'save budget']}\n",
    "oc = flopy.modflow.ModflowOc(m_mod, stress_period_data=spd, compact=True)\n",
    "\n",
    "print(f\"\\nModified hydraulic conductivity:\")\n",
    "print(f\"  Original K: {np.mean(hk):.2f} m/d (uniform)\")\n",
    "print(f\"  Modified K: {np.mean(new_hk):.2f} ± {np.std(new_hk):.2f} m/d (heterogeneous)\")\n",
    "print(f\"  Range: {np.min(new_hk):.2f} - {np.max(new_hk):.2f} m/d\")"
   ]
  },
  {
   "cell_type": "code",
   "execution_count": 5,
   "id": "2dc30ac1",
   "metadata": {},
   "outputs": [],
   "source": [
    "# Write and run the modified model\n",
    "m_mod.write_input()\n",
    "success, buff = m_mod.run_model(silent=True)\n",
    "hds_path = f'{model_ws_modified}/{new_modelname}.hds'"
   ]
  },
  {
   "cell_type": "markdown",
   "id": "5g83n9swzpr",
   "metadata": {},
   "source": [
    "## 4. Comparing Model Results\n",
    "\n",
    "Now let's compare the hydraulic heads between the original and modified models to see how the heterogeneous hydraulic conductivity affected the groundwater flow system."
   ]
  },
  {
   "cell_type": "code",
   "execution_count": 6,
   "id": "pvvad3u21j",
   "metadata": {},
   "outputs": [
    {
     "data": {
      "image/png": "[encoded data removed]",
      "text/plain": [
       "<Figure size 1800x600 with 6 Axes>"
      ]
     },
     "metadata": {},
     "output_type": "display_data"
    }
   ],
   "source": [
    "# Define file paths for both models\n",
    "headfile_original = f'{original_ws}/{modelname}.hds'\n",
    "headfile_modified = f'{model_ws_modified}/{new_modelname}.hds'\n",
    "\n",
    "# Check if output files exist\n",
    "if not os.path.exists(headfile_original):\n",
    "    raise FileNotFoundError(f\"Original model head file not found: {headfile_original}\")\n",
    "\n",
    "if not os.path.exists(headfile_modified):\n",
    "    raise FileNotFoundError(f\"Modified model head file not found: {headfile_modified}\")\n",
    "\n",
    "# Read heads from the original model\n",
    "hds_original = flopy.utils.HeadFile(headfile_original)\n",
    "head_original = hds_original.get_data()\n",
    "\n",
    "# Read heads from the modified model\n",
    "hds_modified = flopy.utils.HeadFile(headfile_modified)\n",
    "head_modified = hds_modified.get_data()\n",
    "\n",
    "# Calculate head difference and plot results\n",
    "head_diff = head_modified - head_original\n",
    "fig, axes = plt.subplots(1, 3, figsize=(18, 6))\n",
    "cmap = mp.cm.viridis\n",
    "\n",
    "# Original heads\n",
    "im1 = axes[0].imshow(head_original[0, :, :], cmap=cmap)\n",
    "axes[0].set_title('Original Model Heads (m)', fontsize=14, fontweight='bold')\n",
    "axes[0].set_xlabel('Column')\n",
    "axes[0].set_ylabel('Row')\n",
    "plt.colorbar(im1, ax=axes[0], orientation='vertical', label='Head (m)')\n",
    "\n",
    "# Modified heads\n",
    "im2 = axes[1].imshow(head_modified[0, :, :], cmap=cmap)\n",
    "axes[1].set_title('Modified Model Heads (m)', fontsize=14, fontweight='bold')\n",
    "axes[1].set_xlabel('Column')\n",
    "axes[1].set_ylabel('Row')\n",
    "plt.colorbar(im2, ax=axes[1], orientation='vertical', label='Head (m)')\n",
    "\n",
    "# Head difference\n",
    "im3 = axes[2].imshow(head_diff[0, :, :], cmap='RdBu_r', \n",
    "                     vmin=-np.max(np.abs(head_diff)), \n",
    "                     vmax=np.max(np.abs(head_diff)))\n",
    "axes[2].set_title('Head Difference\\n(Modified - Original)', fontsize=14, fontweight='bold')\n",
    "axes[2].set_xlabel('Column')\n",
    "axes[2].set_ylabel('Row')\n",
    "plt.colorbar(im3, ax=axes[2], orientation='vertical', label='Difference (m)')\n",
    "\n",
    "plt.tight_layout()\n",
    "plt.show()"
   ]
  },
  {
   "cell_type": "markdown",
   "id": "rdnhylcvuem",
   "metadata": {},
   "source": [
    "## 5. Hands-On Exercise: Create Your Own Model Modification\n",
    "\n",
    "Now it's your turn! Try creating a different model modification. The modified model above used a random heterogeneous K field. You can try something different!\n",
    "\n",
    "**Ideas for your experiment:**\n",
    "\n",
    "1. **Structured K zones**: Create high and low K zones (e.g., a low-K barrier)\n",
    "2. **Spatial gradients**: Make K increase from west to east\n",
    "3. **Add boundary conditions**: Add wells or constant head boundaries\n",
    "4. **Modify layer geometry**: Change elevations or thicknesses\n",
    "\n",
    "### Template for Your Experiment:\n",
    "\n",
    "Follow the same pattern as above:\n",
    "1. Create a separate directory for your experiment\n",
    "2. Load the original model to get the structure\n",
    "3. Create a new model instance\n",
    "4. Copy and modify packages\n",
    "5. Run and compare with the original\n",
    "\n",
    "**Try it in the cell below!**"
   ]
  },
  {
   "cell_type": "code",
   "execution_count": null,
   "id": "d61sx1ib76t",
   "metadata": {},
   "outputs": [],
   "source": []
  }
 ],
 "metadata": {
  "kernelspec": {
   "display_name": "hwrs564a",
   "language": "python",
   "name": "hwrs564a"
  },
  "language_info": {
   "codemirror_mode": {
    "name": "ipython",
    "version": 3
   },
   "file_extension": ".py",
   "mimetype": "text/x-python",
   "name": "python",
   "nbconvert_exporter": "python",
   "pygments_lexer": "ipython3",
   "version": "3.11.4"
  }
 },
 "nbformat": 4,
 "nbformat_minor": 5
}
